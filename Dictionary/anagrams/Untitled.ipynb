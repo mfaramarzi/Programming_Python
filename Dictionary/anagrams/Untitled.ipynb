{
 "cells": [
  {
   "cell_type": "code",
   "execution_count": 2,
   "id": "2eacda88",
   "metadata": {},
   "outputs": [
    {
     "name": "stdout",
     "output_type": "stream",
     "text": [
      "2\n"
     ]
    }
   ],
   "source": [
    "num_queries = int(input())"
   ]
  },
  {
   "cell_type": "code",
   "execution_count": 3,
   "id": "f6a1647c",
   "metadata": {},
   "outputs": [
    {
     "name": "stdout",
     "output_type": "stream",
     "text": [
      "abba\n",
      "abcd\n"
     ]
    }
   ],
   "source": [
    "for i in range(num_queries):\n",
    "    \n",
    "    sherlockAndAnagrams(input())\n"
   ]
  },
  {
   "cell_type": "markdown",
   "id": "623de1c6",
   "metadata": {},
   "source": [
    "1 . Traverse all possible substrings within string\n",
    "2 . Check if any two substrings of equal length are anagrams"
   ]
  },
  {
   "cell_type": "code",
   "execution_count": 94,
   "id": "c1a77707",
   "metadata": {},
   "outputs": [],
   "source": [
    "def sherlockAndAnagrams(s):\n",
    "    \n",
    "# 1 . Traverse all possible substrings within string\n",
    "\n",
    "    count = 0\n",
    "\n",
    "    lst_char_poss_str = []\n",
    "    \n",
    "    len_s = len(s)\n",
    "    \n",
    "    for i in range(len_s):#for each char in string\n",
    "        \n",
    "        temp_str = \"\"#a temp string to include characters next to evaluating char\n",
    "        \n",
    "        for j in range(i , len_s):#for all possible length of string from that char\n",
    "            \n",
    "            temp_str += s[j] #possible substrings from that char\n",
    "            \n",
    "            lst_char_poss_str.append(temp_str)#All possible substrings within string\n",
    "    \n",
    "    # 2 . Check if any two substrings of equal length are anagrams\n",
    "    \n",
    "    new_lst_char_poss_str = []\n",
    "\n",
    "    for i in lst_char_poss_str:\n",
    "\n",
    "        i = list(i)#sorted list, so, \"abb\" and \"bba\" will be both \"abb\"\n",
    "        \n",
    "        i.sort()\n",
    "\n",
    "        new_lst_char_poss_str.append(i)#a 2-d list of lists of characters for All possible substrings within string\n",
    "\n",
    "    len_new_s = len(new_lst_char_poss_str)\n",
    "\n",
    "    for i in range (len_new_s - 1):\n",
    "\n",
    "        for j in range (i + 1, len_new_s):\n",
    "\n",
    "            if new_lst_char_poss_str[i] == new_lst_char_poss_str[j]:\n",
    "\n",
    "                count += 1\n",
    "                \n",
    "    return(count)"
   ]
  },
  {
   "cell_type": "code",
   "execution_count": 95,
   "id": "cf1182bc",
   "metadata": {},
   "outputs": [
    {
     "data": {
      "text/plain": [
       "10"
      ]
     },
     "execution_count": 95,
     "metadata": {},
     "output_type": "execute_result"
    }
   ],
   "source": [
    "sherlockAndAnagrams(\"kkkk\")"
   ]
  },
  {
   "cell_type": "markdown",
   "id": "f36e81e9",
   "metadata": {},
   "source": [
    "# Better Runtime"
   ]
  },
  {
   "cell_type": "code",
   "execution_count": 96,
   "id": "2f97f6ca",
   "metadata": {},
   "outputs": [],
   "source": [
    "def sherlockAndAnagrams(s):\n",
    "    \n",
    "    count = 0\n",
    "    \n",
    "    slen = len(s)\n",
    "\n",
    "    for i in range(slen):\n",
    "        \n",
    "        for j in range(i+1, slen):\n",
    "\n",
    "            substr = ''.join(sorted(s[i:j]))#Sortingall characters after a char in string\n",
    "            \n",
    "            sublen = len(substr)\n",
    "\n",
    "            for x in range(i+1, slen):\n",
    "\n",
    "                if x + sublen > slen: #if index out of range\n",
    "                    \n",
    "                    break\n",
    "\n",
    "                substr2 = ''.join(sorted(s[x:x+sublen]))\n",
    "\n",
    "                if substr == substr2:\n",
    "                    \n",
    "                    anagrams += 1\n",
    "\n",
    "    return count"
   ]
  },
  {
   "cell_type": "code",
   "execution_count": 97,
   "id": "58822b20",
   "metadata": {},
   "outputs": [
    {
     "data": {
      "text/plain": [
       "10"
      ]
     },
     "execution_count": 97,
     "metadata": {},
     "output_type": "execute_result"
    }
   ],
   "source": [
    "sherlockAndAnagrams(\"kkkk\")"
   ]
  },
  {
   "cell_type": "markdown",
   "id": "cddec9fe",
   "metadata": {},
   "source": [
    "If big O of this algorithmis O(n^3), why is it faster than my algorithm??????????????"
   ]
  },
  {
   "cell_type": "code",
   "execution_count": null,
   "id": "e4b19756",
   "metadata": {},
   "outputs": [],
   "source": []
  }
 ],
 "metadata": {
  "kernelspec": {
   "display_name": "Python 3",
   "language": "python",
   "name": "python3"
  },
  "language_info": {
   "codemirror_mode": {
    "name": "ipython",
    "version": 3
   },
   "file_extension": ".py",
   "mimetype": "text/x-python",
   "name": "python",
   "nbconvert_exporter": "python",
   "pygments_lexer": "ipython3",
   "version": "3.8.10"
  }
 },
 "nbformat": 4,
 "nbformat_minor": 5
}
