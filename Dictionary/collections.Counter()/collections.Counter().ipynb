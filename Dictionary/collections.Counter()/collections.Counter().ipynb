{
 "cells": [
  {
   "cell_type": "code",
   "execution_count": 1,
   "id": "6a61480e",
   "metadata": {},
   "outputs": [],
   "source": [
    "from collections import Counter\n",
    "\n",
    "x = int(input())#number of shoes in the inventory\n",
    "\n",
    "inventory_lst = input().split()#list of inventory sizes (string)\n",
    "\n",
    "inventory_lst = list(map(int,inventory_lst))#convrt list of str to lst of int\n",
    "inventory_lst\n",
    "\n",
    "num_sells = int(input())#number of shoes sold from inventory\n",
    "\n",
    "sell_lst = []#2d list of all customers size and payment lists (string)\n",
    "\n",
    "for i in range (num_sells):\n",
    "    \n",
    "    each_custom = []#Making a 1d list of each custm size and pay (string)\n",
    "    \n",
    "    each_custom = input().split()\n",
    "    \n",
    "    each_custom = list(map(int, each_custom))\n",
    "    \n",
    "    sell_lst.append(each_custom) \n",
    "    \n",
    "\n",
    "sell_lst\n",
    "\n",
    "inventory_dic = Counter(inventory_lst)\n",
    "inventory_dic\n",
    "\n",
    "earning = 0\n",
    "\n",
    "for lst in sell_lst:\n",
    "    \n",
    "    key = lst[0]\n",
    "    \n",
    "    if (key in inventory_dic and inventory_dic[key] > 0):\n",
    "        \n",
    "        inventory_dic[key] -= 1\n",
    "        \n",
    "        earning += lst[1]\n",
    "        \n",
    "    else:\n",
    "        \n",
    "        continue\n",
    "\n",
    "print(earning)"
   ]
  },
  {
   "cell_type": "code",
   "execution_count": 14,
   "id": "7aa3e792",
   "metadata": {},
   "outputs": [],
   "source": [
    "# If there are same keys only the first one will be included in dic\n",
    "# I should keep it as list\n",
    "\n",
    "# sell_dic = dict(sell_lst)\n",
    "# sell_dic"
   ]
  }
 ],
 "metadata": {
  "kernelspec": {
   "display_name": "Python 3",
   "language": "python",
   "name": "python3"
  },
  "language_info": {
   "codemirror_mode": {
    "name": "ipython",
    "version": 3
   },
   "file_extension": ".py",
   "mimetype": "text/x-python",
   "name": "python",
   "nbconvert_exporter": "python",
   "pygments_lexer": "ipython3",
   "version": "3.8.10"
  }
 },
 "nbformat": 4,
 "nbformat_minor": 5
}
