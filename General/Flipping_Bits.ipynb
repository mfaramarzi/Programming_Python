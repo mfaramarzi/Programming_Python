{
 "cells": [
  {
   "cell_type": "code",
   "execution_count": null,
   "id": "db57c056",
   "metadata": {},
   "outputs": [],
   "source": [
    "import math\n",
    "\n",
    "\n",
    "def flippingBits(n):\n",
    "    \n",
    "    mod = 0\n",
    "    \n",
    "    lst_mods = []#A list to store mods\n",
    "    \n",
    "    new_dec = 0 #New decimal number\n",
    "    \n",
    "    while(n > 0):#List of binary digits of number\n",
    "        \n",
    "        mod = n%2\n",
    "        \n",
    "        lst_mods.append(mod)\n",
    "        \n",
    "        n = math.floor (n/2)\n",
    "        \n",
    "    while(len(lst_mods) < 32):\n",
    "        \n",
    "        lst_mods.append(0)\n",
    "        \n",
    "    \n",
    "    j = len(lst_mods) - 1\n",
    "    \n",
    "    while (j >= 0):\n",
    "        \n",
    "        # rev_lst_mods.append(j)\n",
    "        \n",
    "        if((lst_mods[j]) == 0):\n",
    "            \n",
    "            new_dec += math.pow(2 , j)\n",
    "            \n",
    "        j -=1\n",
    "        \n",
    "    return(int(new_dec))\n",
    "\n",
    "n = 2147483647\n",
    "    \n",
    "flippingBits(n)"
   ]
  }
 ],
 "metadata": {
  "kernelspec": {
   "display_name": "Python 3",
   "language": "python",
   "name": "python3"
  },
  "language_info": {
   "codemirror_mode": {
    "name": "ipython",
    "version": 3
   },
   "file_extension": ".py",
   "mimetype": "text/x-python",
   "name": "python",
   "nbconvert_exporter": "python",
   "pygments_lexer": "ipython3",
   "version": "3.8.10"
  }
 },
 "nbformat": 4,
 "nbformat_minor": 5
}
