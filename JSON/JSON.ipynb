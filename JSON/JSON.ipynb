{
 "cells": [
  {
   "cell_type": "markdown",
   "id": "099bc838",
   "metadata": {},
   "source": [
    "## Exercise 1: Convert the following dictionary into JSON format"
   ]
  },
  {
   "cell_type": "code",
   "execution_count": 6,
   "id": "04a68380",
   "metadata": {},
   "outputs": [],
   "source": [
    "import json"
   ]
  },
  {
   "cell_type": "code",
   "execution_count": 7,
   "id": "c5dd79f3",
   "metadata": {},
   "outputs": [],
   "source": [
    "dict_data = {\"key1\" : \"value1\", \"key2\" : \"value2\"}"
   ]
  },
  {
   "cell_type": "code",
   "execution_count": 10,
   "id": "42ab07f5",
   "metadata": {},
   "outputs": [
    {
     "data": {
      "text/plain": [
       "'{\"key1\": \"value1\", \"key2\": \"value2\"}'"
      ]
     },
     "execution_count": 10,
     "metadata": {},
     "output_type": "execute_result"
    }
   ],
   "source": [
    "json_format = json.dumps(dict_data)#Converting within python needs \"dumps\" func\n",
    "json_format"
   ]
  },
  {
   "cell_type": "code",
   "execution_count": 11,
   "id": "8bec737a",
   "metadata": {},
   "outputs": [
    {
     "data": {
      "text/plain": [
       "str"
      ]
     },
     "execution_count": 11,
     "metadata": {},
     "output_type": "execute_result"
    }
   ],
   "source": [
    "type(json_format)# This json format object is type string\n",
    "#Its data type is string but its format(structure) is json"
   ]
  },
  {
   "cell_type": "markdown",
   "id": "3c348320",
   "metadata": {},
   "source": [
    "## Exercise 2: Access the value of key2 from the following JSON"
   ]
  },
  {
   "cell_type": "code",
   "execution_count": 13,
   "id": "c281cb46",
   "metadata": {},
   "outputs": [
    {
     "data": {
      "text/plain": [
       "{'key1': 'value1', 'key2': 'value2'}"
      ]
     },
     "execution_count": 13,
     "metadata": {},
     "output_type": "execute_result"
    }
   ],
   "source": [
    "import json\n",
    "\n",
    "sampleJson = \"\"\"{\"key1\": \"value1\", \"key2\": \"value2\"}\"\"\"\n",
    "# write code to print the value of key2\n",
    "dict_format = json.loads(sampleJson)#Converting json format string into python dictionary\n",
    "dict_format"
   ]
  },
  {
   "cell_type": "code",
   "execution_count": 14,
   "id": "d53dacf2",
   "metadata": {},
   "outputs": [
    {
     "data": {
      "text/plain": [
       "'value2'"
      ]
     },
     "execution_count": 14,
     "metadata": {},
     "output_type": "execute_result"
    }
   ],
   "source": [
    "dict_format['key2']#Accessing the value of a key"
   ]
  },
  {
   "cell_type": "markdown",
   "id": "7786576e",
   "metadata": {},
   "source": [
    "## Question 3: PrettyPrint following JSON data\n",
    "PrettyPrint following JSON data with indent level 2 and key-value separators should be (\",\", \" = \")."
   ]
  },
  {
   "cell_type": "code",
   "execution_count": 15,
   "id": "012d3477",
   "metadata": {},
   "outputs": [],
   "source": [
    "sampleJson = {\"key1\": \"value1\", \"key2\": \"value2\"}"
   ]
  },
  {
   "cell_type": "code",
   "execution_count": 26,
   "id": "a8266616",
   "metadata": {},
   "outputs": [
    {
     "name": "stdout",
     "output_type": "stream",
     "text": [
      "{\n",
      "\"key1\" = \"value1\",\n",
      "\"key2\" = \"value2\"\n",
      "}\n"
     ]
    }
   ],
   "source": [
    "prettyPrintedJson  = json.dumps(sampleJson, indent=0, separators=(\",\", \" = \"))\n",
    "print(prettyPrintedJson)"
   ]
  },
  {
   "cell_type": "markdown",
   "id": "d5d88e27",
   "metadata": {},
   "source": [
    "If ``indent`` is a non-negative integer, then JSON array elements and\n",
    "object members will be pretty-printed with that indent level. An indent\n",
    "level of 0 will only insert newlines. ``None`` is the most compact\n",
    "representation.\n",
    "\n",
    "If specified, ``separators`` should be an ``(item_separator, key_separator)``"
   ]
  },
  {
   "cell_type": "markdown",
   "id": "072c72f5",
   "metadata": {},
   "source": [
    "## Exercise 4: Sort JSON keys in and write them into a file\n",
    "\n",
    "Sort following JSON data alphabetical order of keys"
   ]
  },
  {
   "cell_type": "code",
   "execution_count": 30,
   "id": "f191c06e",
   "metadata": {},
   "outputs": [],
   "source": [
    "sampleJson = {\"id\" : 1, \"name\" : \"value2\", \"age\" : 29}"
   ]
  },
  {
   "cell_type": "code",
   "execution_count": 32,
   "id": "8a328621",
   "metadata": {},
   "outputs": [],
   "source": [
    "with open(\"sampleJson.json\", \"w\") as write_file:#with open to automatically close \n",
    "    \n",
    "    json.dump(sampleJson, write_file, indent=4, sort_keys=True)\n",
    "    #read dict, write on the file, give some identation, and sort"
   ]
  },
  {
   "cell_type": "code",
   "execution_count": null,
   "id": "6731ecab",
   "metadata": {},
   "outputs": [],
   "source": []
  }
 ],
 "metadata": {
  "kernelspec": {
   "display_name": "Python 3",
   "language": "python",
   "name": "python3"
  },
  "language_info": {
   "codemirror_mode": {
    "name": "ipython",
    "version": 3
   },
   "file_extension": ".py",
   "mimetype": "text/x-python",
   "name": "python",
   "nbconvert_exporter": "python",
   "pygments_lexer": "ipython3",
   "version": "3.8.10"
  }
 },
 "nbformat": 4,
 "nbformat_minor": 5
}
