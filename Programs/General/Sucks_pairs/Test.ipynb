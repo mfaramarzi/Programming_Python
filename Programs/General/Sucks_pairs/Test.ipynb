{
 "cells": [
  {
   "cell_type": "code",
   "execution_count": null,
   "id": "7462b1d4",
   "metadata": {},
   "outputs": [],
   "source": [
    " count = 0\n",
    "    \n",
    "    level = 0\n",
    "    \n",
    "    for i in range len(path):\n",
    "        \n",
    "        if path[i] == 'U':\n",
    "            \n",
    "            level +=1\n",
    "            \n",
    "            if level ==0:\n",
    "                \n",
    "                count+=1\n",
    "            \n",
    "        elif path[i] == 'D':\n",
    "            \n",
    "            level -=1\n",
    "            \n",
    "            \n",
    "            \n",
    "    "
   ]
  }
 ],
 "metadata": {
  "kernelspec": {
   "display_name": "Python 3",
   "language": "python",
   "name": "python3"
  },
  "language_info": {
   "codemirror_mode": {
    "name": "ipython",
    "version": 3
   },
   "file_extension": ".py",
   "mimetype": "text/x-python",
   "name": "python",
   "nbconvert_exporter": "python",
   "pygments_lexer": "ipython3",
   "version": "3.8.10"
  }
 },
 "nbformat": 4,
 "nbformat_minor": 5
}
