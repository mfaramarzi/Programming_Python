{
 "cells": [
  {
   "cell_type": "code",
   "execution_count": 17,
   "id": "688ef968",
   "metadata": {},
   "outputs": [
    {
     "data": {
      "text/plain": [
       "4"
      ]
     },
     "execution_count": 17,
     "metadata": {},
     "output_type": "execute_result"
    }
   ],
   "source": [
    "def jumpingOnClouds(c):# Write your code here#Numbere of jumpscount_jumps = 0 # counting the number of 0\n",
    "    count_jumps = 0 \n",
    "    \n",
    "    for i in range (len(c)):       \n",
    "\n",
    "        if (i+2 <len(c) and c[i] == 0 and c[i+2] ==0):\n",
    "            i = i+2\n",
    "            count_jumps+=1#It doesnt let me to update i in the while loop\n",
    "            \n",
    "        elif (i+1 <len(c) and c[i] == 0 and c[i+1] ==0):\n",
    "            \n",
    "            count_jumps+=1\n",
    "        \n",
    "        else:\n",
    "            pass    \n",
    "        \n",
    "    return(count_jumps)\n",
    "  \n",
    "c = [0, 0, 0, 1, 0, 0]\n",
    "   \n",
    "jumpingOnClouds(c)"
   ]
  },
  {
   "cell_type": "code",
   "execution_count": 16,
   "id": "8f668c8d",
   "metadata": {},
   "outputs": [
    {
     "data": {
      "text/plain": [
       "3"
      ]
     },
     "execution_count": 16,
     "metadata": {},
     "output_type": "execute_result"
    }
   ],
   "source": [
    "def jumpingOnClouds(c):# Write your code here#Numbere of jumpscount_jumps = 0 # counting the number of 0\n",
    "    count_jumps = 0 \n",
    "    \n",
    "    i = 0\n",
    "    \n",
    "    while( i < len(c)):       \n",
    "\n",
    "        if (i+2 <len(c) and c[i] == 0 and c[i+2] ==0):\n",
    "            i = i+2\n",
    "            count_jumps+=1\n",
    "            \n",
    "        elif (i+1 <len(c) and c[i] == 0 and c[i+1] ==0):\n",
    "            \n",
    "            count_jumps+=1\n",
    "            i = i+1\n",
    "        \n",
    "        else:\n",
    "            i = i+1   \n",
    "        \n",
    "    return(count_jumps)\n",
    "c = [0, 0, 0, 1, 0, 0]\n",
    "   \n",
    "jumpingOnClouds(c)"
   ]
  },
  {
   "cell_type": "code",
   "execution_count": null,
   "id": "5f298fa2",
   "metadata": {},
   "outputs": [],
   "source": []
  }
 ],
 "metadata": {
  "kernelspec": {
   "display_name": "Python 3",
   "language": "python",
   "name": "python3"
  },
  "language_info": {
   "codemirror_mode": {
    "name": "ipython",
    "version": 3
   },
   "file_extension": ".py",
   "mimetype": "text/x-python",
   "name": "python",
   "nbconvert_exporter": "python",
   "pygments_lexer": "ipython3",
   "version": "3.8.10"
  }
 },
 "nbformat": 4,
 "nbformat_minor": 5
}
