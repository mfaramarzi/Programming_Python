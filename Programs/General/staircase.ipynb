{
 "cells": [
  {
   "cell_type": "code",
   "execution_count": 1,
   "id": "bec95de9",
   "metadata": {},
   "outputs": [
    {
     "name": "stdout",
     "output_type": "stream",
     "text": [
      "     #\n",
      "    ##\n",
      "   ###\n",
      "  ####\n",
      " #####\n",
      "######\n"
     ]
    }
   ],
   "source": [
    "def staircase(n):\n",
    "    \n",
    "    \n",
    "    for i in range(n):\n",
    "        ind = n - (i+1)\n",
    "    \n",
    "        for j in range(n):\n",
    "            if j <ind:\n",
    "                \n",
    "                print(\" \",end='')\n",
    "                \n",
    "            else:\n",
    "                \n",
    "                print(\"#\",end='')\n",
    "                \n",
    "        print()\n",
    "        \n",
    "n = 6\n",
    "staircase(6)"
   ]
  },
  {
   "cell_type": "code",
   "execution_count": null,
   "id": "3fc0612c",
   "metadata": {},
   "outputs": [],
   "source": []
  }
 ],
 "metadata": {
  "kernelspec": {
   "display_name": "Python 3",
   "language": "python",
   "name": "python3"
  },
  "language_info": {
   "codemirror_mode": {
    "name": "ipython",
    "version": 3
   },
   "file_extension": ".py",
   "mimetype": "text/x-python",
   "name": "python",
   "nbconvert_exporter": "python",
   "pygments_lexer": "ipython3",
   "version": "3.8.10"
  }
 },
 "nbformat": 4,
 "nbformat_minor": 5
}
