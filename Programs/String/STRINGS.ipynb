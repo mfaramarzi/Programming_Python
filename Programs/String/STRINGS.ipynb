{
 "cells": [
  {
   "cell_type": "markdown",
   "id": "3f511bc4",
   "metadata": {},
   "source": [
    "## Exercise 1A: Create a string made of the first, middle and last character"
   ]
  },
  {
   "cell_type": "code",
   "execution_count": 6,
   "id": "2e379a72",
   "metadata": {},
   "outputs": [],
   "source": [
    "import math"
   ]
  },
  {
   "cell_type": "code",
   "execution_count": 9,
   "id": "e4efe6a7",
   "metadata": {},
   "outputs": [
    {
     "data": {
      "text/plain": [
       "'Jms'"
      ]
     },
     "execution_count": 9,
     "metadata": {},
     "output_type": "execute_result"
    }
   ],
   "source": [
    "str1 = \"James\"\n",
    "new_str = \"\"\n",
    "new_str = new_str + str1[0] + str1[math.floor(len(str1)/2)] + str1[-1]\n",
    "new_str"
   ]
  },
  {
   "cell_type": "markdown",
   "id": "35ca06dc",
   "metadata": {},
   "source": [
    "## Exercise 2: Append new string in the middle of a given string\n",
    "Given two strings, s1 and s2. Write a program to create a new string s3 by appending s2 in the middle of s1."
   ]
  },
  {
   "cell_type": "code",
   "execution_count": 11,
   "id": "6f18b89e",
   "metadata": {},
   "outputs": [],
   "source": [
    "s1 = \"Ault\"\n",
    "s2 = \"Kelly\"\n",
    "\n",
    "s3 = \"\" #Making an empty string\n",
    "\n",
    "middle_idx = math.ceil(len(s1)/2) #The index second string should be appended in\n",
    "\n",
    "s3 = s1[:middle_idx] + s2 + s1[middle_idx:]\n",
    "s3"
   ]
  },
  {
   "cell_type": "markdown",
   "id": "eb10ce59",
   "metadata": {},
   "source": [
    "## Exercise 5: Count all letters, digits, and special symbols from a given string"
   ]
  },
  {
   "cell_type": "code",
   "execution_count": 14,
   "id": "ed5235ca",
   "metadata": {},
   "outputs": [],
   "source": [
    "str1 = \"P@#yn26at^&i5ve\""
   ]
  },
  {
   "cell_type": "code",
   "execution_count": 21,
   "id": "372f4bec",
   "metadata": {
    "scrolled": true
   },
   "outputs": [
    {
     "name": "stdout",
     "output_type": "stream",
     "text": [
      "Chars =  8 \n",
      " Digits =  3 \n",
      " Symbol =  4\n"
     ]
    }
   ],
   "source": [
    "def counter(str):\n",
    "\n",
    "    Chars = 0\n",
    "    Digits = 0\n",
    "    Symbol = 0\n",
    "\n",
    "    for i in str1:\n",
    "\n",
    "        if (ord(i) >= 48 and ord(i) <= 57):#or i.isdigit()\n",
    "\n",
    "            Digits += 1\n",
    "\n",
    "        elif ((ord(i) >= 65 and ord(i) <= 90) or (ord(i) >= 97 and ord(i) <= 122)):\n",
    "\n",
    "            Chars += 1\n",
    "\n",
    "        else:\n",
    "\n",
    "            Symbol += 1\n",
    "            \n",
    "    print(\"Chars = \", Chars , \"\\n\",\n",
    "    \"Digits = \", Digits,\"\\n\",\n",
    "    \"Symbol = \", Symbol)\n",
    "        \n",
    "counter(str1)        \n",
    "        "
   ]
  },
  {
   "cell_type": "markdown",
   "id": "b4f23af9",
   "metadata": {},
   "source": [
    "### OR"
   ]
  },
  {
   "cell_type": "code",
   "execution_count": 22,
   "id": "57dd0913",
   "metadata": {},
   "outputs": [
    {
     "name": "stdout",
     "output_type": "stream",
     "text": [
      "Chars =  8 \n",
      " Digits =  3 \n",
      " Symbol =  4\n"
     ]
    }
   ],
   "source": [
    "def counter(str):\n",
    "\n",
    "    Chars = 0\n",
    "    Digits = 0\n",
    "    Symbol = 0\n",
    "\n",
    "    for i in str1:\n",
    "\n",
    "        if (i.isdigit()):\n",
    "\n",
    "            Digits += 1\n",
    "\n",
    "        elif (i.isalpha()):\n",
    "\n",
    "            Chars += 1\n",
    "\n",
    "        else:\n",
    "\n",
    "            Symbol += 1\n",
    "            \n",
    "    print(\"Chars = \", Chars , \"\\n\",\n",
    "    \"Digits = \", Digits,\"\\n\",\n",
    "    \"Symbol = \", Symbol)\n",
    "        \n",
    "counter(str1)        \n",
    "        "
   ]
  },
  {
   "cell_type": "code",
   "execution_count": null,
   "id": "39cc4f5d",
   "metadata": {},
   "outputs": [],
   "source": []
  }
 ],
 "metadata": {
  "kernelspec": {
   "display_name": "csc591",
   "language": "python",
   "name": "csc591"
  },
  "language_info": {
   "codemirror_mode": {
    "name": "ipython",
    "version": 3
   },
   "file_extension": ".py",
   "mimetype": "text/x-python",
   "name": "python",
   "nbconvert_exporter": "python",
   "pygments_lexer": "ipython3",
   "version": "3.8.10"
  }
 },
 "nbformat": 4,
 "nbformat_minor": 5
}
