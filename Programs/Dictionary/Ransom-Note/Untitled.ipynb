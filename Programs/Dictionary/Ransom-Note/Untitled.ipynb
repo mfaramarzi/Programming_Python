{
 "cells": [
  {
   "cell_type": "code",
   "execution_count": null,
   "id": "45812e26",
   "metadata": {},
   "outputs": [],
   "source": [
    "def checkMagazine(magazine, note):\n",
    "    # for each element in the note searchthatinthemagazine, if found,  drop that from magazin, else, return NO\n",
    "\n",
    "    for i in  note:\n",
    "        \n",
    "        count = 0\n",
    "        \n",
    "        for j in magazine:\n",
    "            \n",
    "            if i == j:\n",
    "            \n",
    "                magazine.remove(i)\n",
    "                \n",
    "                count +=1\n",
    "                \n",
    "                break\n",
    "            \n",
    "        if count == 0: #if never i ==j\n",
    "            \n",
    "            # return \"No\"\n",
    "            print(\"No\")\n",
    "            quit()\n",
    "        \n",
    "    # return \"Yes\"\n",
    "\n",
    "    print(\"Yes\")"
   ]
  },
  {
   "cell_type": "code",
   "execution_count": 1,
   "id": "1436bf04",
   "metadata": {},
   "outputs": [],
   "source": [
    "from collections import Counter\n",
    "\n",
    "def checkMagazine(magazine, note):\n",
    "    \n",
    "    return (Counter(note) - Counter(magazine)) == {}"
   ]
  },
  {
   "cell_type": "code",
   "execution_count": 11,
   "id": "da476d9a",
   "metadata": {},
   "outputs": [],
   "source": [
    "magazine = [\"two\", \"times\" , \"three\", \"is\", \"not\", \"four\"]\n",
    "\n",
    "note = [\"two\", \"times\", \"two\", \"is\", \"four\"]"
   ]
  },
  {
   "cell_type": "code",
   "execution_count": 12,
   "id": "939c25ab",
   "metadata": {},
   "outputs": [
    {
     "data": {
      "text/plain": [
       "Counter({'times': 1, 'two': 1, 'is': 1, 'four': 1})"
      ]
     },
     "execution_count": 12,
     "metadata": {},
     "output_type": "execute_result"
    }
   ],
   "source": [
    "# Counter(note)\n",
    "\n",
    "# Counter(magazine)\n",
    "\n",
    "Counter(note)-Counter(magazine)#It will result a dict of keys wich have 1>= elements,otherwise an empty dict"
   ]
  },
  {
   "cell_type": "code",
   "execution_count": 15,
   "id": "e923f349",
   "metadata": {},
   "outputs": [
    {
     "data": {
      "text/plain": [
       "True"
      ]
     },
     "execution_count": 15,
     "metadata": {},
     "output_type": "execute_result"
    }
   ],
   "source": [
    "checkMagazine(magazine, note)"
   ]
  },
  {
   "cell_type": "code",
   "execution_count": null,
   "id": "a2f915da",
   "metadata": {},
   "outputs": [],
   "source": [
    "def checkMagazine(magazine, note):\n",
    "    d = {}\n",
    "    for word in magazine:\n",
    "        d.setdefault(word, 0)\n",
    "        d[word] += 1\n",
    "    \n",
    "    for word in note:\n",
    "        if word in d:\n",
    "            d[word] -= 1\n",
    "        else:\n",
    "            return False\n",
    "    \n",
    "    return all([x >= 0 for x in d.values()])"
   ]
  },
  {
   "cell_type": "code",
   "execution_count": null,
   "id": "21ae1c9e",
   "metadata": {},
   "outputs": [],
   "source": [
    "magazine = [\"two\", \"times,\" \"three\", \"is\", \"not\", \"four\"]\n",
    "\n",
    "note = [\"two\", \"times\", \"two\", \"is\", \"four\"]\n",
    "\n",
    "checkMagazine(magazine, note)"
   ]
  },
  {
   "cell_type": "code",
   "execution_count": null,
   "id": "2583a69e",
   "metadata": {},
   "outputs": [],
   "source": []
  }
 ],
 "metadata": {
  "kernelspec": {
   "display_name": "Python 3",
   "language": "python",
   "name": "python3"
  },
  "language_info": {
   "codemirror_mode": {
    "name": "ipython",
    "version": 3
   },
   "file_extension": ".py",
   "mimetype": "text/x-python",
   "name": "python",
   "nbconvert_exporter": "python",
   "pygments_lexer": "ipython3",
   "version": "3.8.10"
  }
 },
 "nbformat": 4,
 "nbformat_minor": 5
}
