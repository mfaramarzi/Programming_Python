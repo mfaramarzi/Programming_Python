{
 "cells": [
  {
   "cell_type": "code",
   "execution_count": 2,
   "id": "02dc7d53",
   "metadata": {},
   "outputs": [
    {
     "name": "stdout",
     "output_type": "stream",
     "text": [
      "[7, 4, 2, 0, 4, 8, 10, 8, 3, 6, 7, 6, 3, 9, 19, 14]\n"
     ]
    },
    {
     "data": {
      "text/plain": [
       "19"
      ]
     },
     "execution_count": 2,
     "metadata": {},
     "output_type": "execute_result"
    }
   ],
   "source": [
    "def hourglassSum(arr):\n",
    "    \n",
    "    sum_array = []\n",
    "    \n",
    "    for i in range (4):#0,1,2,3\n",
    "        \n",
    "        for j in range (4):\n",
    "            \n",
    "            sum = 0\n",
    "            \n",
    "            for k in range (3):#0,1,2\n",
    "                \n",
    "                for m in range (3):\n",
    "                    \n",
    "                    if ((k == 1 and m ==0) or (k == 1 and m ==2)):\n",
    "                        \n",
    "                        pass\n",
    "                    \n",
    "                    else:\n",
    "                        \n",
    "                        sum +=  arr[i+k][j+m]\n",
    "                        \n",
    "            sum_array.append(sum)\n",
    "            \n",
    "    print(sum_array)\n",
    "                        \n",
    "    return(max(sum_array))\n",
    "    \n",
    "arr = [[1,1,1,0,0,0] ,\n",
    "       [0,1,0,0,0,0],\n",
    "       [1,1,1,0,0,0],\n",
    "       [0,0,2,4,4,0],\n",
    "       [0,0,0,2,0,0],\n",
    "       [0,0,1,2,4,0]]\n",
    "        \n",
    "    \n",
    "# arr = [[1,1,1],\n",
    "#        [0,1,0],\n",
    "#        [1,1,1]]\n",
    "                  \n",
    "\n",
    "hourglassSum(arr)"
   ]
  },
  {
   "cell_type": "code",
   "execution_count": null,
   "id": "0b286aa6",
   "metadata": {},
   "outputs": [],
   "source": []
  },
  {
   "cell_type": "code",
   "execution_count": null,
   "id": "0584d633",
   "metadata": {},
   "outputs": [],
   "source": []
  },
  {
   "cell_type": "code",
   "execution_count": null,
   "id": "9d045268",
   "metadata": {},
   "outputs": [],
   "source": []
  },
  {
   "cell_type": "code",
   "execution_count": null,
   "id": "0f9cb09d",
   "metadata": {},
   "outputs": [],
   "source": []
  },
  {
   "cell_type": "code",
   "execution_count": null,
   "id": "f9eb56ab",
   "metadata": {},
   "outputs": [],
   "source": []
  },
  {
   "cell_type": "code",
   "execution_count": null,
   "id": "34b375a3",
   "metadata": {},
   "outputs": [],
   "source": []
  },
  {
   "cell_type": "code",
   "execution_count": null,
   "id": "9f02d051",
   "metadata": {},
   "outputs": [],
   "source": []
  },
  {
   "cell_type": "code",
   "execution_count": null,
   "id": "8dad07ee",
   "metadata": {},
   "outputs": [],
   "source": []
  }
 ],
 "metadata": {
  "kernelspec": {
   "display_name": "Python 3",
   "language": "python",
   "name": "python3"
  },
  "language_info": {
   "codemirror_mode": {
    "name": "ipython",
    "version": 3
   },
   "file_extension": ".py",
   "mimetype": "text/x-python",
   "name": "python",
   "nbconvert_exporter": "python",
   "pygments_lexer": "ipython3",
   "version": "3.8.10"
  }
 },
 "nbformat": 4,
 "nbformat_minor": 5
}
