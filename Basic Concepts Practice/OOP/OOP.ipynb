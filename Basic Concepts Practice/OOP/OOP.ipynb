{
 "cells": [
  {
   "cell_type": "markdown",
   "id": "839a15a8",
   "metadata": {},
   "source": [
    "## OOP Exercise 1: Create a Class with instance attributes"
   ]
  },
  {
   "cell_type": "code",
   "execution_count": 23,
   "id": "21943026",
   "metadata": {},
   "outputs": [],
   "source": [
    "class MotorCycle: #In python we dont define variables like c++. We define them using self argument\n",
    "    \n",
    "    def __init__(self, max_speed, mileage):\n",
    "    \n",
    "        self.max_speed = max_speed\n",
    "        \n",
    "        self.mileage = mileage\n",
    "        \n",
    "    def distance(self):\n",
    "        \n",
    "        return(self.max_speed * self.mileage)\n",
    "        "
   ]
  },
  {
   "cell_type": "code",
   "execution_count": 24,
   "id": "0757ceb6",
   "metadata": {},
   "outputs": [],
   "source": [
    "nc500 = MotorCycle( 160 , 100)"
   ]
  },
  {
   "cell_type": "code",
   "execution_count": 25,
   "id": "9a338907",
   "metadata": {},
   "outputs": [
    {
     "data": {
      "text/plain": [
       "160"
      ]
     },
     "execution_count": 25,
     "metadata": {},
     "output_type": "execute_result"
    }
   ],
   "source": [
    "nc500.max_speed"
   ]
  },
  {
   "cell_type": "code",
   "execution_count": 26,
   "id": "5bb706ce",
   "metadata": {},
   "outputs": [
    {
     "data": {
      "text/plain": [
       "100"
      ]
     },
     "execution_count": 26,
     "metadata": {},
     "output_type": "execute_result"
    }
   ],
   "source": [
    "nc500.mileage"
   ]
  },
  {
   "cell_type": "code",
   "execution_count": 27,
   "id": "75f37df1",
   "metadata": {},
   "outputs": [
    {
     "data": {
      "text/plain": [
       "16000"
      ]
     },
     "execution_count": 27,
     "metadata": {},
     "output_type": "execute_result"
    }
   ],
   "source": [
    "nc500.distance()"
   ]
  },
  {
   "cell_type": "markdown",
   "id": "083a59f2",
   "metadata": {},
   "source": [
    "## OOP Exercise 2: Create a Vehicle class without any variables and methods"
   ]
  },
  {
   "cell_type": "code",
   "execution_count": 29,
   "id": "0392598f",
   "metadata": {},
   "outputs": [],
   "source": [
    "class Vehicle:#Why should I make an empty class?\n",
    "    \n",
    "    pass"
   ]
  },
  {
   "cell_type": "markdown",
   "id": "d80c0902",
   "metadata": {},
   "source": [
    "## OOP Exercise 3: Create a child class Bus that will inherit all of the variables and methods of the Vehicle class"
   ]
  },
  {
   "cell_type": "code",
   "execution_count": 38,
   "id": "691697fd",
   "metadata": {},
   "outputs": [
    {
     "name": "stdout",
     "output_type": "stream",
     "text": [
      "Vehicle Name: volvo Speed: 140 Mileage: 1000\n"
     ]
    }
   ],
   "source": [
    "class Vehicle:#this will be a parent class for class Vehicle\n",
    "\n",
    "    def __init__(self, name, max_speed, mileage):\n",
    "        self.name = name\n",
    "        self.max_speed = max_speed\n",
    "        self.mileage = mileage\n",
    "\n",
    "class Bus(Vehicle):#send the parent class as a parameter when creating the child class\n",
    "    \n",
    "    def Print(self):#Adding a method to the child class\n",
    "        \n",
    "        print(\"Vehicle Name:\", self.name, \"Speed:\", self.max_speed, \"Mileage:\", self.mileage)\n",
    "    \n",
    "    \n",
    "volvo = Bus(\"volvo\" , 140, 1000)\n",
    "volvo.name\n",
    "volvo.max_speed\n",
    "volvo.mileage\n",
    "volvo.Print()\n"
   ]
  },
  {
   "cell_type": "markdown",
   "id": "02184880",
   "metadata": {},
   "source": [
    "## OOP Exercise 4: Class Inheritance\n",
    "Create a Bus class that inherits from the Vehicle class. Give the capacity argument of Bus.seating_capacity() a default value of 50."
   ]
  },
  {
   "cell_type": "code",
   "execution_count": 40,
   "id": "0df27dbc",
   "metadata": {},
   "outputs": [],
   "source": [
    "class Bus(Vehicle):\n",
    "    def __init__(self, name, max_speed, mileage):\n",
    "        self.name = name\n",
    "        self.max_speed = max_speed\n",
    "        self.mileage = mileage\n",
    "\n",
    "    def seating_capacity(self, capacity = 50):\n",
    "        return f\"The seating capacity of a {self.name} is {capacity} passengers\""
   ]
  },
  {
   "cell_type": "code",
   "execution_count": 41,
   "id": "74106726",
   "metadata": {},
   "outputs": [],
   "source": [
    "my_bus = Bus(\"my_volvo\" , 80, 200)"
   ]
  },
  {
   "cell_type": "code",
   "execution_count": 42,
   "id": "e949044c",
   "metadata": {},
   "outputs": [
    {
     "data": {
      "text/plain": [
       "'The seating capacity of a my_volvo is 50 passengers'"
      ]
     },
     "execution_count": 42,
     "metadata": {},
     "output_type": "execute_result"
    }
   ],
   "source": [
    "my_bus.seating_capacity()"
   ]
  },
  {
   "cell_type": "code",
   "execution_count": null,
   "id": "ade12638",
   "metadata": {},
   "outputs": [],
   "source": []
  }
 ],
 "metadata": {
  "kernelspec": {
   "display_name": "Python 3",
   "language": "python",
   "name": "python3"
  },
  "language_info": {
   "codemirror_mode": {
    "name": "ipython",
    "version": 3
   },
   "file_extension": ".py",
   "mimetype": "text/x-python",
   "name": "python",
   "nbconvert_exporter": "python",
   "pygments_lexer": "ipython3",
   "version": "3.8.10"
  }
 },
 "nbformat": 4,
 "nbformat_minor": 5
}
