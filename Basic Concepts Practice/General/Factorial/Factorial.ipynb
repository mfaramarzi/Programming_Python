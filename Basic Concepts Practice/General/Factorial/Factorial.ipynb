{
 "cells": [
  {
   "cell_type": "markdown",
   "id": "8a0f6ea1",
   "metadata": {},
   "source": [
    "## Iteratively"
   ]
  },
  {
   "cell_type": "code",
   "execution_count": 2,
   "id": "25495402",
   "metadata": {},
   "outputs": [],
   "source": [
    "def factorial(n):\n",
    "    sum = 1\n",
    "    while(n>1):\n",
    "        sum *= n\n",
    "        n -= 1\n",
    "    return(sum)\n",
    "\n",
    "factorial(10)"
   ]
  },
  {
   "cell_type": "markdown",
   "id": "23c22305",
   "metadata": {},
   "source": [
    "## Recursively"
   ]
  },
  {
   "cell_type": "code",
   "execution_count": 7,
   "id": "8d235270",
   "metadata": {},
   "outputs": [
    {
     "data": {
      "text/plain": [
       "3628800"
      ]
     },
     "execution_count": 7,
     "metadata": {},
     "output_type": "execute_result"
    }
   ],
   "source": [
    "def factorial(n):\n",
    "#     base case\n",
    "    if n == 1:\n",
    "        return (1)\n",
    "    else:\n",
    "        return(n*factorial(n-1))\n",
    "    \n",
    "factorial(10)"
   ]
  }
 ],
 "metadata": {
  "kernelspec": {
   "display_name": "csc591",
   "language": "python",
   "name": "csc591"
  },
  "language_info": {
   "codemirror_mode": {
    "name": "ipython",
    "version": 3
   },
   "file_extension": ".py",
   "mimetype": "text/x-python",
   "name": "python",
   "nbconvert_exporter": "python",
   "pygments_lexer": "ipython3",
   "version": "3.8.10"
  }
 },
 "nbformat": 4,
 "nbformat_minor": 5
}
