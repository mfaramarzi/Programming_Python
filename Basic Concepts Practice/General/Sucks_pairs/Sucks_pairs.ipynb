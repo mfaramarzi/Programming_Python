{
 "cells": [
  {
   "cell_type": "code",
   "execution_count": 1,
   "id": "173d725b",
   "metadata": {},
   "outputs": [],
   "source": [
    "#!/bin/python3\n",
    "\n",
    "import math\n",
    "import os\n",
    "import random\n",
    "import re\n",
    "import sys"
   ]
  },
  {
   "cell_type": "code",
   "execution_count": null,
   "id": "0c664c37",
   "metadata": {},
   "outputs": [],
   "source": [
    "#\n",
    "# Complete the 'sockMerchant' function below.\n",
    "#\n",
    "# The function is expected to return an INTEGER.\n",
    "# The function accepts following parameters:\n",
    "#  1. INTEGER n\n",
    "#  2. INTEGER_ARRAY ar\n",
    "#\n",
    "\n",
    "def sockMerchant(n, ar):\n",
    "    # Write your code here\n",
    "    \n",
    "    visited_lst = []\n",
    "    \n",
    "    pair_num = 0\n",
    "    \n",
    "    for i in range (n):\n",
    "        \n",
    "        count_each = 0\n",
    "        \n",
    "        \n",
    "        if ar[i] not in visited_lst:\n",
    "            \n",
    "            for j in range (n):\n",
    "\n",
    "                if ar[j] == ar[i]:\n",
    "                    \n",
    "                    count_each +=1\n",
    "                    \n",
    "            pair_num += count_each//2 #Two / for floor division\n",
    "\n",
    "            visited_lst.append(ar[i])\n",
    "                    \n",
    "    return(pair_num)\n",
    "                    \n",
    "                    \n",
    "        \n",
    "\n",
    "if __name__ == '__main__':\n",
    "\n",
    "#     If the python interpreter is running that \n",
    "# module (the source file) as the main program, \n",
    "# it sets the special __name__ variable to have a value “__main__”. \n",
    "# If this file is being imported from another module, __name__ will \n",
    "# be set to the module’s name. \"\"\n",
    "\n",
    "    fptr = open(os.environ['OUTPUT_PATH'], 'w')\n",
    "\n",
    "    n = int(input().strip())\n",
    "\n",
    "    ar = list(map(int, input().rstrip().split()))\n",
    "\n",
    "    result = sockMerchant(n, ar)\n",
    "\n",
    "    fptr.write(str(result) + '\\n')\n",
    "\n",
    "    fptr.close()"
   ]
  }
 ],
 "metadata": {
  "kernelspec": {
   "display_name": "Python 3",
   "language": "python",
   "name": "python3"
  },
  "language_info": {
   "codemirror_mode": {
    "name": "ipython",
    "version": 3
   },
   "file_extension": ".py",
   "mimetype": "text/x-python",
   "name": "python",
   "nbconvert_exporter": "python",
   "pygments_lexer": "ipython3",
   "version": "3.8.10"
  }
 },
 "nbformat": 4,
 "nbformat_minor": 5
}
