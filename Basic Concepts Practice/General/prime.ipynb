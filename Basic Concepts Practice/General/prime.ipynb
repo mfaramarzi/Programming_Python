{
 "cells": [
  {
   "cell_type": "code",
   "execution_count": null,
   "id": "0d99bbbd",
   "metadata": {},
   "outputs": [],
   "source": [
    "def primality(n):\n",
    "    \n",
    "    if n < 2:\n",
    "        \n",
    "        return(\"Not prime\")\n",
    "        \n",
    "    for i in range (2 , math.ceil(n/2)):\n",
    "        \n",
    "        if (n % i == 0):\n",
    "            \n",
    "            return(\"Not prime\")\n",
    "        \n",
    "    return(\"Prime\")"
   ]
  }
 ],
 "metadata": {
  "kernelspec": {
   "display_name": "Python 3",
   "language": "python",
   "name": "python3"
  },
  "language_info": {
   "codemirror_mode": {
    "name": "ipython",
    "version": 3
   },
   "file_extension": ".py",
   "mimetype": "text/x-python",
   "name": "python",
   "nbconvert_exporter": "python",
   "pygments_lexer": "ipython3",
   "version": "3.8.10"
  }
 },
 "nbformat": 4,
 "nbformat_minor": 5
}
