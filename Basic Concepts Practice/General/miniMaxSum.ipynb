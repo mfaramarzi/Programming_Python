{
 "cells": [
  {
   "cell_type": "code",
   "execution_count": null,
   "id": "5d8d2c86",
   "metadata": {},
   "outputs": [],
   "source": [
    "def miniMaxSum(arr):\n",
    "    # Write your code here\n",
    "    # find the indx of maximumin the array store in idx_max\n",
    "    # find the indx of minimum in the array store in  idx_min\n",
    "    # sum all i in arr if i!=idx_max print + space\n",
    "    # sum all i in arr if i!=idx_min print \n",
    "    \n",
    "    idx_max = 0\n",
    "    idx_min = 0\n",
    "    \n",
    "    max_value = arr[0]\n",
    "    min_value = arr[0]\n",
    "    \n",
    "    sum_max = 0\n",
    "    \n",
    "    sum_min = 0\n",
    "    \n",
    "    for i in range (len(arr)):\n",
    "        \n",
    "        if arr[i] > max_value:\n",
    "            idx_max = i\n",
    "            max_value = arr[i]\n",
    "            \n",
    "        elif arr[i] < min_value:\n",
    "            idx_min = i\n",
    "            min_value = arr[i]\n",
    "        \n",
    "        else:\n",
    "            continue\n",
    "        \n",
    "    for i in range(len(arr)):\n",
    "        \n",
    "        if i!=idx_min:\n",
    "            \n",
    "            sum_max+= arr[i]\n",
    "            \n",
    "        if i!=idx_max:\n",
    "            \n",
    "            sum_min+= arr[i]\n",
    "                \n",
    "    print(sum_min , sum_max) "
   ]
  }
 ],
 "metadata": {
  "kernelspec": {
   "display_name": "Python 3",
   "language": "python",
   "name": "python3"
  },
  "language_info": {
   "codemirror_mode": {
    "name": "ipython",
    "version": 3
   },
   "file_extension": ".py",
   "mimetype": "text/x-python",
   "name": "python",
   "nbconvert_exporter": "python",
   "pygments_lexer": "ipython3",
   "version": "3.8.10"
  }
 },
 "nbformat": 4,
 "nbformat_minor": 5
}
