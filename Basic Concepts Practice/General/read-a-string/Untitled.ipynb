{
 "cells": [
  {
   "cell_type": "code",
   "execution_count": 6,
   "id": "b59a503b",
   "metadata": {},
   "outputs": [],
   "source": [
    "def repeatedString(s, n):\n",
    "    # Write your code here\n",
    "    import math\n",
    "    # number of iterations over strring =  math.ceil (n / len(s))\n",
    "    \n",
    "    count_a = 0\n",
    "    \n",
    "    i = 0\n",
    "\n",
    "    while(i < n):\n",
    "\n",
    "        for j in range (len(s)):\n",
    "\n",
    "            if s[j] == 'a':\n",
    "\n",
    "                count_a += 1\n",
    "\n",
    "            i += 1\n",
    "\n",
    "    return(count_a)\n"
   ]
  },
  {
   "cell_type": "code",
   "execution_count": 7,
   "id": "c0cadfed",
   "metadata": {},
   "outputs": [],
   "source": [
    "s = \"a\""
   ]
  },
  {
   "cell_type": "code",
   "execution_count": 8,
   "id": "56b28f1a",
   "metadata": {},
   "outputs": [],
   "source": [
    "n = 1000000000000"
   ]
  },
  {
   "cell_type": "code",
   "execution_count": null,
   "id": "616aeffe",
   "metadata": {},
   "outputs": [],
   "source": [
    "repeatedString(s, n)"
   ]
  },
  {
   "cell_type": "code",
   "execution_count": null,
   "id": "a3988315",
   "metadata": {},
   "outputs": [],
   "source": []
  }
 ],
 "metadata": {
  "kernelspec": {
   "display_name": "Python 3",
   "language": "python",
   "name": "python3"
  },
  "language_info": {
   "codemirror_mode": {
    "name": "ipython",
    "version": 3
   },
   "file_extension": ".py",
   "mimetype": "text/x-python",
   "name": "python",
   "nbconvert_exporter": "python",
   "pygments_lexer": "ipython3",
   "version": "3.8.10"
  }
 },
 "nbformat": 4,
 "nbformat_minor": 5
}
