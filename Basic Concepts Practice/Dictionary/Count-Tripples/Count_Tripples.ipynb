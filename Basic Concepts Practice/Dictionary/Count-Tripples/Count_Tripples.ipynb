{
 "cells": [
  {
   "cell_type": "markdown",
   "id": "205e608b",
   "metadata": {},
   "source": [
    "How can using dictionary make it easier to handle?"
   ]
  },
  {
   "cell_type": "code",
   "execution_count": 1,
   "id": "b81a5abb",
   "metadata": {},
   "outputs": [
    {
     "data": {
      "text/plain": [
       "7"
      ]
     },
     "execution_count": 1,
     "metadata": {},
     "output_type": "execute_result"
    }
   ],
   "source": [
    "# Complete the countTriplets function below.\n",
    "\n",
    "def countTriplets(arr, r): #Where do I need r?\n",
    "    \n",
    "    count = 0 #Counting number of three elements in sequences whith different values\n",
    "    \n",
    "    for i in range (len(arr) - 2):#going over the index of first element from begining to index -3\n",
    "        \n",
    "        temp_arr = []#empty array to store each three lements\n",
    "        \n",
    "        j = i #index j starting at i to iterate from i to the third unique element\n",
    "        \n",
    "        \n",
    "        while(len(temp_arr) != 3 and j < len(arr)):#loop until find 3 elemets or end of array\n",
    "            \n",
    "            while (j + 1 < len(arr) and arr[j] == arr[j+1]):\n",
    "\n",
    "                j += 1\n",
    "                count +=1\n",
    "                \n",
    "                \n",
    "            temp_arr.append(arr[j])\n",
    "                \n",
    "            j += 1\n",
    "            \n",
    "            if len(temp_arr) == 3:\n",
    "                \n",
    "                count +=1\n",
    "                \n",
    "    return(count)\n",
    "            \n",
    "            \n",
    " \n",
    "arr =[1, 3, 9, 9, 27, 81]\n",
    "\n",
    "r = 3\n",
    "\n",
    "countTriplets(arr, r)           \n",
    "                \n",
    "            \n",
    "            \n",
    "    \n",
    "    \n",
    "    \n",
    "    \n",
    "    \n",
    "    \n",
    "    \n"
   ]
  },
  {
   "cell_type": "code",
   "execution_count": 2,
   "id": "310d9942",
   "metadata": {},
   "outputs": [
    {
     "data": {
      "text/plain": [
       "6"
      ]
     },
     "execution_count": 2,
     "metadata": {},
     "output_type": "execute_result"
    }
   ],
   "source": [
    "def countTriplets(arr, r):\n",
    "    \n",
    "        count = 0\n",
    "        \n",
    "        dict = {}\n",
    "        \n",
    "        dictPairs = {}\n",
    "\n",
    "        for i in reversed(arr):#Iterationg  over the iterable ong in the reverse order\n",
    "            \n",
    "                if i*r in dictPairs:\n",
    "                        count += dictPairs[i*r]\n",
    "                if i*r in dict:\n",
    "                        dictPairs[i] = dictPairs.get(i, 0) + dict[i*r]\n",
    "\n",
    "                dict[i] = dict.get(i, 0) + 1\n",
    "\n",
    "        return count\n",
    "    \n",
    "    \n",
    "arr =[1, 3, 9, 9, 27, 81]\n",
    "\n",
    "r = 3\n",
    "\n",
    "countTriplets(arr, r)           \n",
    "                "
   ]
  },
  {
   "cell_type": "code",
   "execution_count": null,
   "id": "404fba7d",
   "metadata": {},
   "outputs": [],
   "source": []
  }
 ],
 "metadata": {
  "kernelspec": {
   "display_name": "Python 3",
   "language": "python",
   "name": "python3"
  },
  "language_info": {
   "codemirror_mode": {
    "name": "ipython",
    "version": 3
   },
   "file_extension": ".py",
   "mimetype": "text/x-python",
   "name": "python",
   "nbconvert_exporter": "python",
   "pygments_lexer": "ipython3",
   "version": "3.8.10"
  }
 },
 "nbformat": 4,
 "nbformat_minor": 5
}
