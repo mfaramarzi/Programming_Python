{
 "cells": [
  {
   "cell_type": "code",
   "execution_count": 2,
   "id": "2f30530a",
   "metadata": {},
   "outputs": [
    {
     "name": "stdout",
     "output_type": "stream",
     "text": [
      "0.500000\n",
      " 0.333333\n",
      " 0.166667\n",
      "\n"
     ]
    }
   ],
   "source": [
    "def plusMinus(arr):\n",
    "    \n",
    "    num_pos = 0\n",
    "    num_neg = 0\n",
    "    num_zero = 0\n",
    "    \n",
    "    arr_size = len(arr)\n",
    "    \n",
    "    for i in arr:\n",
    "        \n",
    "        if i<0:\n",
    "            num_neg +=1\n",
    "            \n",
    "        elif i > 0:\n",
    "            num_pos += 1\n",
    "            \n",
    "        else:\n",
    "            num_zero +=1\n",
    "        \n",
    "    print(\"{:.6f}\\n\".format(num_pos/arr_size) ,\"{:.6f}\\n\".format(num_neg/arr_size) ,\"{:.6f}\\n\".format(num_zero/arr_size)  )\n",
    "    \n",
    "arr = [-4, 3, -9, 0, 4, 1]\n",
    "\n",
    "plusMinus(arr)"
   ]
  },
  {
   "cell_type": "code",
   "execution_count": null,
   "id": "97320f7b",
   "metadata": {},
   "outputs": [],
   "source": []
  }
 ],
 "metadata": {
  "kernelspec": {
   "display_name": "Python 3",
   "language": "python",
   "name": "python3"
  },
  "language_info": {
   "codemirror_mode": {
    "name": "ipython",
    "version": 3
   },
   "file_extension": ".py",
   "mimetype": "text/x-python",
   "name": "python",
   "nbconvert_exporter": "python",
   "pygments_lexer": "ipython3",
   "version": "3.8.10"
  }
 },
 "nbformat": 4,
 "nbformat_minor": 5
}
