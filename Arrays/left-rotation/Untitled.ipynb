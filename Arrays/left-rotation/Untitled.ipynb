{
 "cells": [
  {
   "cell_type": "code",
   "execution_count": 1,
   "id": "c0e2e70b",
   "metadata": {},
   "outputs": [],
   "source": [
    "import copy\n",
    "\n",
    "def rotLeft(a, d):\n",
    "    \n",
    "    size_a = len(a)\n",
    "    \n",
    "    temp_array = [0]* size_a\n",
    "    \n",
    "    for i in range (d):\n",
    "        # Moving all elements to a new temp_array with updated indecies\n",
    "        \n",
    "        for j in range (size_a - 1):#0,1,2,3\n",
    "            \n",
    "            temp_array[j] = a[j+1]\n",
    "            \n",
    "        temp_array[size_a - 1] = a[0]#it is recognizing the a as the same as temp_array\n",
    "        \n",
    "        a = copy.copy (temp_array)#Shallow copy\n",
    "        \n",
    "#         print(a)\n",
    "        \n",
    "    for i in range (len(a)):\n",
    "        \n",
    "        print(a[i] , end = ' ')\n",
    "        "
   ]
  },
  {
   "cell_type": "code",
   "execution_count": 2,
   "id": "c04d6ebb",
   "metadata": {},
   "outputs": [],
   "source": [
    "a = [1, 2, 3, 4, 5]"
   ]
  },
  {
   "cell_type": "code",
   "execution_count": 3,
   "id": "433a03af",
   "metadata": {},
   "outputs": [],
   "source": [
    "d = 4"
   ]
  },
  {
   "cell_type": "code",
   "execution_count": 4,
   "id": "d4ecabd7",
   "metadata": {},
   "outputs": [
    {
     "name": "stdout",
     "output_type": "stream",
     "text": [
      "5 1 2 3 4 "
     ]
    }
   ],
   "source": [
    "rotLeft(a, d)"
   ]
  },
  {
   "cell_type": "markdown",
   "id": "884a7929",
   "metadata": {},
   "source": [
    "# Optimum Solution"
   ]
  },
  {
   "cell_type": "code",
   "execution_count": null,
   "id": "b0053a87",
   "metadata": {},
   "outputs": [],
   "source": [
    "import copy\n",
    "\n",
    "def rotLeft(a, d):\n",
    "    a = list(a)\n",
    "    return a[d:] + a[:d]"
   ]
  }
 ],
 "metadata": {
  "kernelspec": {
   "display_name": "Python 3",
   "language": "python",
   "name": "python3"
  },
  "language_info": {
   "codemirror_mode": {
    "name": "ipython",
    "version": 3
   },
   "file_extension": ".py",
   "mimetype": "text/x-python",
   "name": "python",
   "nbconvert_exporter": "python",
   "pygments_lexer": "ipython3",
   "version": "3.8.10"
  }
 },
 "nbformat": 4,
 "nbformat_minor": 5
}
